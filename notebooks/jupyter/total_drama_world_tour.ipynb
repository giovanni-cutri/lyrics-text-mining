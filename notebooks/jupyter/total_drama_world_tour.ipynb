{
 "cells": [
  {
   "cell_type": "raw",
   "id": "3f1036b7",
   "metadata": {},
   "source": [
    "---\n",
    "title: \"Total Drama World Tour Songs\"\n",
    "output: html_document\n",
    "---"
   ]
  },
  {
   "cell_type": "code",
   "execution_count": null,
   "id": "89d89d3b",
   "metadata": {
    "name": "setup",
    "tags": [
     "remove_cell"
    ]
   },
   "outputs": [],
   "source": [
    "knitr::opts_chunk$set(echo = TRUE)"
   ]
  },
  {
   "cell_type": "markdown",
   "id": "73bde57f",
   "metadata": {},
   "source": [
    "## Total Drama World Tour Songs Analysis\n",
    "\n",
    "As a bonus to the Caparezza's songs analysis, here is an analogue notebook\n",
    "which focuses on songs from *Total Drama World Tour* cartoon."
   ]
  },
  {
   "cell_type": "code",
   "execution_count": null,
   "id": "b4808e48",
   "metadata": {},
   "outputs": [],
   "source": [
    "library(geniusr)\n",
    "library(tidyverse)\n",
    "library(tidytext)\n",
    "library(quanteda)\n",
    "library(quanteda.textstats)\n",
    "library(udpipe)\n",
    "library(wordcloud)\n",
    "library(textdata)\n",
    "library(reshape2)\n",
    "library(igraph)"
   ]
  },
  {
   "cell_type": "markdown",
   "id": "cda4bd07",
   "metadata": {},
   "source": [
    "## Get lyrics"
   ]
  },
  {
   "cell_type": "code",
   "execution_count": null,
   "id": "be54ce78",
   "metadata": {},
   "outputs": [],
   "source": [
    "genius_token()\n",
    "\n",
    "artist_id <- search_artist(\"Total Drama World Tour\")$artist_id\n",
    "artist_songs <- get_artist_songs(artist_id)\n",
    "\n",
    "songs_ids <- c()\n",
    "for (song in artist_songs$content) {\n",
    "  song_id <- song$id\n",
    "  songs_ids <- songs_ids %>% append(song_id)\n",
    "}\n",
    "\n",
    "songs_titles <- c()\n",
    "songs_lyrics <- c()\n",
    "for (i in 1:length(songs_ids)) {\n",
    "  cat(\"Getting\", i, \"of\", length(songs_ids), \"id:\", songs_ids[i], \"\\n\")\n",
    "  song <- get_song(songs_ids[i])$content\n",
    "  song_title <- song$title\n",
    "  song_lyrics <- list(get_lyrics_id(songs_ids[i]))\n",
    "  songs_titles <- songs_titles %>% append(song_title)\n",
    "  songs_lyrics <- songs_lyrics %>% append(song_lyrics) \n",
    "}\n",
    "\n",
    "# collapse all lyrics lines into a single text\n",
    "for (i in 1:length(songs_lyrics)){\n",
    "  songs_lyrics[[i]] <- songs_lyrics[[i]]$line %>% paste(collapse = \"\\n\")\n",
    "}\n",
    "\n",
    "songs_lyrics <- unlist(songs_lyrics)\n",
    "\n",
    "songs <- data.frame(title = songs_titles, lyrics = songs_lyrics)"
   ]
  },
  {
   "cell_type": "code",
   "execution_count": null,
   "id": "ffb2ffc4",
   "metadata": {},
   "outputs": [],
   "source": [
    "songs %>% head(1)"
   ]
  },
  {
   "cell_type": "code",
   "execution_count": null,
   "id": "61021752",
   "metadata": {},
   "outputs": [],
   "source": [
    "doc_ids <- vector()\n",
    "for(i in 1:nrow(songs)){\n",
    "  id <- paste(\"doc\", toString(i), sep = \"\")\n",
    "  doc_ids <- doc_ids %>% append(id)\n",
    "}\n",
    "songs <- songs %>% mutate(doc_id = doc_ids, .before = 1)"
   ]
  },
  {
   "cell_type": "markdown",
   "id": "8a7afd44",
   "metadata": {},
   "source": [
    "## Text pre-processing"
   ]
  },
  {
   "cell_type": "code",
   "execution_count": null,
   "id": "e4734d01",
   "metadata": {},
   "outputs": [],
   "source": [
    "tdwt_corpus <- corpus(songs$lyrics, docnames = songs$id)\n",
    "summary(tdwt_corpus)"
   ]
  },
  {
   "cell_type": "code",
   "execution_count": null,
   "id": "22c8c01c",
   "metadata": {},
   "outputs": [],
   "source": [
    "cat(as.character(tdwt_corpus[1]))"
   ]
  },
  {
   "cell_type": "code",
   "execution_count": null,
   "id": "1aa8b320",
   "metadata": {},
   "outputs": [],
   "source": [
    "corpus_tokens <- tdwt_corpus %>%\n",
    "  quanteda::tokens(remove_punct = TRUE, remove_numbers = TRUE, remove_symbols = TRUE) %>%\n",
    "  tokens_tolower()"
   ]
  },
  {
   "cell_type": "code",
   "execution_count": null,
   "id": "21e10819",
   "metadata": {},
   "outputs": [],
   "source": [
    "txt <- sapply(corpus_tokens, FUN=function(x) paste(x, collapse = \"\\n\"))\n",
    "udpipe_download_model(language = \"english-ewt\", model_dir = \"resources/\")\n",
    "lang_model <- udpipe_load_model(file = \"resources/english-ewt-ud-2.5-191206.udpipe\")\n",
    "outL <- udpipe_annotate(lang_model, x = txt, tokenizer = \"vertical\", trace = TRUE) %>%\n",
    "  as.data.frame()\n",
    "en_stopwords <- readLines(\"https://raw.githubusercontent.com/stopwords-iso/stopwords-en/master/stopwords-en.txt\")\n",
    "outL <- outL %>% filter(!(token %in% en_stopwords) & !(lemma %in% en_stopwords))"
   ]
  },
  {
   "cell_type": "code",
   "execution_count": null,
   "id": "578330f2",
   "metadata": {},
   "outputs": [],
   "source": [
    "outL %>% select(doc_id, token, lemma, upos) %>% sample_n(5)"
   ]
  },
  {
   "cell_type": "code",
   "execution_count": null,
   "id": "378d98ef",
   "metadata": {},
   "outputs": [],
   "source": [
    "outL_reduced <- outL %>% filter(upos %in% c(\"NOUN\", \"PROPN\", \"ADJ\", \"VERB\"))"
   ]
  },
  {
   "cell_type": "code",
   "execution_count": null,
   "id": "e42d8725",
   "metadata": {},
   "outputs": [],
   "source": [
    "# fct_inorder preserves original order of the column\n",
    "lemmatized_lyrics <- outL_reduced %>% group_by(doc_id = fct_inorder(doc_id)) %>%\n",
    "  summarise(lemmatized = paste(lemma, collapse = \" \"))\n",
    "songs <- songs %>% right_join(lemmatized_lyrics, by = \"doc_id\")\n",
    "tdwt_corpus <- songs$lemmatized %>% corpus(docnames = songs$id)"
   ]
  },
  {
   "cell_type": "code",
   "execution_count": null,
   "id": "f5d6b962",
   "metadata": {},
   "outputs": [],
   "source": [
    "DTM <- tdwt_corpus %>% tokens() %>% dfm()\n",
    "\n",
    "DTM"
   ]
  },
  {
   "cell_type": "markdown",
   "id": "4573c5bd",
   "metadata": {},
   "source": [
    "## Lexical Analysis"
   ]
  },
  {
   "cell_type": "code",
   "execution_count": null,
   "id": "cbf8698c",
   "metadata": {},
   "outputs": [],
   "source": [
    "DTM %>% dim()"
   ]
  },
  {
   "cell_type": "code",
   "execution_count": null,
   "id": "8c0896df",
   "metadata": {},
   "outputs": [],
   "source": [
    "words <- colnames(DTM)\n",
    "freqs <- colSums(DTM)\n",
    "wordlist <- data.frame(words, freqs)\n",
    "wordlist %>% arrange(-freqs) %>% head()"
   ]
  },
  {
   "cell_type": "markdown",
   "id": "02639cb2",
   "metadata": {},
   "source": [
    "## Data visualization"
   ]
  },
  {
   "cell_type": "code",
   "execution_count": null,
   "id": "171d1a58",
   "metadata": {},
   "outputs": [],
   "source": [
    "par(mar=c(1,1,0.5,1))\n",
    "wordcloud(words = wordlist$words, freq = wordlist$freqs, scale = c(3.5, 0.35), max.words = 50, random.order = F,\n",
    "          colors = RColorBrewer::brewer.pal(name = \"Dark2\", n = 4))\n",
    "text(0.5, 1, \"wordcloud with TF ponderation\", font = 2)"
   ]
  },
  {
   "cell_type": "markdown",
   "id": "835201bc",
   "metadata": {},
   "source": [
    "## TF-IDF ponderation"
   ]
  },
  {
   "cell_type": "code",
   "execution_count": null,
   "id": "00f8d957",
   "metadata": {},
   "outputs": [],
   "source": [
    "tf_idf <- dfm_tfidf(DTM)\n",
    "freqs_tf_idf <- colSums(tf_idf)\n",
    "words_tf_idf <- colnames(tf_idf)\n",
    "wordlist_tf_idf <- data.frame(words = words_tf_idf, freqs = freqs_tf_idf)\n",
    "wordlist_tf_idf %>% arrange(-freqs) %>% head(10)"
   ]
  },
  {
   "cell_type": "code",
   "execution_count": null,
   "id": "9e6e5870",
   "metadata": {},
   "outputs": [],
   "source": [
    "par(mar=c(1,1,0.5,1))\n",
    "wordcloud(words = wordlist_tf_idf$words, freq = wordlist_tf_idf$freqs,\n",
    "          scale = c(3.5, 0.35), max.words = 50, random.order = F,\n",
    "          colors = RColorBrewer::brewer.pal(name = \"Dark2\", n = 4))\n",
    "text(0.5, 1, \"wordcloud with TF-IDF ponderation\", font = 2)"
   ]
  },
  {
   "cell_type": "markdown",
   "id": "0e40d87a",
   "metadata": {
    "lines_to_next_cell": 0
   },
   "source": [
    "## Co-occurrence analysis"
   ]
  },
  {
   "cell_type": "code",
   "execution_count": null,
   "id": "398901d3",
   "metadata": {},
   "outputs": [],
   "source": [
    "binDTM <- DTM %>% dfm_weight(\"boolean\")\n",
    "coocCounts <- t(binDTM) %*% binDTM\n",
    "as.matrix(coocCounts[16:18, 16:18])"
   ]
  },
  {
   "cell_type": "code",
   "execution_count": null,
   "id": "9bd063f3",
   "metadata": {},
   "outputs": [],
   "source": [
    "coocTerm <- \"cody\"\n",
    "k <- nrow(binDTM)\n",
    "ki <- sum(binDTM[, coocTerm])\n",
    "kj <- colSums(binDTM)\n",
    "names(kj) <- colnames(binDTM)\n",
    "kij <- coocCounts[coocTerm, ]\n",
    "\n",
    "mutualInformationSig <- log(k * kij / (ki * kj))\n",
    "mutualInformationSig <- mutualInformationSig[order(mutualInformationSig, decreasing = TRUE)]\n",
    "\n",
    "dicesig <- 2 * kij / (ki + kj)\n",
    "dicesig <- dicesig[order(dicesig, decreasing=TRUE)]\n",
    "\n",
    "logsig <- 2 * ((k * log(k)) - (ki * log(ki)) - (kj * log(kj)) + (kij * log(kij)) \n",
    "               + (k - ki - kj + kij) * log(k - ki - kj + kij) \n",
    "               + (ki - kij) * log(ki - kij) + (kj - kij) * log(kj - kij) \n",
    "               - (k - ki) * log(k - ki) - (k - kj) * log(k - kj))\n",
    "logsig <- logsig[order(logsig, decreasing=T)]\n",
    "\n",
    "resultOverView <- data.frame(\n",
    "  names(sort(kij, decreasing=T)[1:10]), sort(kij, decreasing=T)[1:10],\n",
    "  names(mutualInformationSig[1:10]), mutualInformationSig[1:10], \n",
    "  names(dicesig[1:10]), dicesig[1:10], \n",
    "  names(logsig[1:10]), logsig[1:10],\n",
    "  row.names = NULL)\n",
    "colnames(resultOverView) <- c(\"Freq-terms\", \"Freq\", \"MI-terms\", \"MI\", \"Dice-Terms\", \"Dice\", \"LL-Terms\", \"LL\")\n",
    "print(resultOverView)"
   ]
  },
  {
   "cell_type": "code",
   "execution_count": null,
   "id": "58105f4e",
   "metadata": {},
   "outputs": [],
   "source": [
    "coocTerm <- \"boyfriend\"\n",
    "k <- nrow(binDTM)\n",
    "ki <- sum(binDTM[, coocTerm])\n",
    "kj <- colSums(binDTM)\n",
    "names(kj) <- colnames(binDTM)\n",
    "kij <- coocCounts[coocTerm, ]\n",
    "\n",
    "mutualInformationSig <- log(k * kij / (ki * kj))\n",
    "mutualInformationSig <- mutualInformationSig[order(mutualInformationSig, decreasing = TRUE)]\n",
    "\n",
    "dicesig <- 2 * kij / (ki + kj)\n",
    "dicesig <- dicesig[order(dicesig, decreasing=TRUE)]\n",
    "\n",
    "logsig <- 2 * ((k * log(k)) - (ki * log(ki)) - (kj * log(kj)) + (kij * log(kij)) \n",
    "               + (k - ki - kj + kij) * log(k - ki - kj + kij) \n",
    "               + (ki - kij) * log(ki - kij) + (kj - kij) * log(kj - kij) \n",
    "               - (k - ki) * log(k - ki) - (k - kj) * log(k - kj))\n",
    "logsig <- logsig[order(logsig, decreasing=T)]\n",
    "\n",
    "resultOverView <- data.frame(\n",
    "  names(sort(kij, decreasing=T)[1:10]), sort(kij, decreasing=T)[1:10],\n",
    "  names(mutualInformationSig[1:10]), mutualInformationSig[1:10], \n",
    "  names(dicesig[1:10]), dicesig[1:10], \n",
    "  names(logsig[1:10]), logsig[1:10],\n",
    "  row.names = NULL)\n",
    "colnames(resultOverView) <- c(\"Freq-terms\", \"Freq\", \"MI-terms\", \"MI\", \"Dice-Terms\", \"Dice\", \"LL-Terms\", \"LL\")\n",
    "print(resultOverView)"
   ]
  },
  {
   "cell_type": "markdown",
   "id": "539f3fc0",
   "metadata": {
    "lines_to_next_cell": 0
   },
   "source": [
    "## Co-occurrence visualization"
   ]
  },
  {
   "cell_type": "code",
   "execution_count": null,
   "id": "411e1994",
   "metadata": {},
   "outputs": [],
   "source": [
    "source(\"resources/calculateCoocStatistics.R\")\n",
    "numberOfCoocs <- 10\n",
    "coocTerm <- \"heather\"\n",
    "coocs <- calculateCoocStatistics(coocTerm, binDTM, measure=\"LOGLIK\")\n",
    "print(coocs[1:numberOfCoocs])\n",
    "resultGraph <- data.frame(from = character(), to = character(), sig = numeric(0))\n",
    "tmpGraph <- data.frame(from = character(), to = character(), sig = numeric(0))\n",
    "\n",
    "# Fill the data.frame to produce the correct number of lines\n",
    "tmpGraph[1:numberOfCoocs, 3] <- coocs[1:numberOfCoocs]\n",
    "# Entry of the search word into the first column in all lines\n",
    "tmpGraph[, 1] <- coocTerm\n",
    "# Entry of the co-occurrences into the second column of the respective line\n",
    "tmpGraph[, 2] <- names(coocs)[1:numberOfCoocs]\n",
    "# Set the significances\n",
    "tmpGraph[, 3] <- coocs[1:numberOfCoocs]\n",
    "\n",
    "# Attach the triples to resultGraph\n",
    "resultGraph <- rbind(resultGraph, tmpGraph)\n",
    "\n",
    "# Iteration over the most significant numberOfCoocs co-occurrences of the search term\n",
    "for (i in 1:numberOfCoocs){\n",
    "  \n",
    "  # Calling up the co-occurrence calculation for term i from the search words co-occurrences\n",
    "  newCoocTerm <- names(coocs)[i]\n",
    "  coocs2 <- calculateCoocStatistics(newCoocTerm, binDTM, measure=\"LOGLIK\")\n",
    "  \n",
    "  #print the co-occurrences\n",
    "  coocs2[1:10]\n",
    "  \n",
    "  # Structure of the temporary graph object\n",
    "  tmpGraph <- data.frame(from = character(), to = character(), sig = numeric(0))\n",
    "  tmpGraph[1:numberOfCoocs, 3] <- coocs2[1:numberOfCoocs]\n",
    "  tmpGraph[, 1] <- newCoocTerm\n",
    "  tmpGraph[, 2] <- names(coocs2)[1:numberOfCoocs]\n",
    "  tmpGraph[, 3] <- coocs2[1:numberOfCoocs]\n",
    "  \n",
    "  #Append the result to the result graph\n",
    "  resultGraph <- rbind(resultGraph, tmpGraph[2:length(tmpGraph[, 1]), ])\n",
    "}\n",
    "\n",
    "# Sample of some examples from resultGraph\n",
    "resultGraph[sample(nrow(resultGraph), 6), ]\n",
    "\n",
    "\n",
    "# set seed for graph plot\n",
    "set.seed(1)\n",
    "\n",
    "# Create the graph object as undirected graph\n",
    "graphNetwork <- graph.data.frame(resultGraph, directed = F)\n",
    "\n",
    "# Identification of all nodes with less than 2 edges\n",
    "verticesToRemove <- V(graphNetwork)[degree(graphNetwork) < 2]\n",
    "# These edges are removed from the graph\n",
    "graphNetwork <- delete.vertices(graphNetwork, verticesToRemove) \n",
    "\n",
    "# Assign colors to nodes (search term blue, others orange)\n",
    "V(graphNetwork)$color <- ifelse(V(graphNetwork)$name == coocTerm, 'cornflowerblue', 'orange') \n",
    "\n",
    "# Set edge colors\n",
    "E(graphNetwork)$color <- adjustcolor(\"DarkGray\", alpha.f = .5)\n",
    "# scale significance between 1 and 10 for edge width\n",
    "E(graphNetwork)$width <- scales::rescale(E(graphNetwork)$sig, to = c(1, 10))\n",
    "\n",
    "# Set edges with radius\n",
    "E(graphNetwork)$curved <- 0.15 \n",
    "# Size the nodes by their degree of networking (scaled between 5 and 15)\n",
    "V(graphNetwork)$size <- scales::rescale(log(degree(graphNetwork)), to = c(5, 15))\n",
    "\n",
    "# Define the frame and spacing for the plot\n",
    "par(mai=c(0,0,1,0)) \n",
    "\n",
    "# Final Plot\n",
    "plot(\n",
    "  graphNetwork,             \n",
    "  layout = layout.fruchterman.reingold, # Force Directed Layout \n",
    "  main = paste(coocTerm, ' Graph'),\n",
    "  vertex.label.family = \"sans\",\n",
    "  vertex.label.cex = 0.8,\n",
    "  vertex.shape = \"circle\",\n",
    "  vertex.label.dist = 0.5,          # Labels of the nodes moved slightly\n",
    "  vertex.frame.color = adjustcolor(\"darkgray\", alpha.f = .5),\n",
    "  vertex.label.color = 'black',     # Color of node names\n",
    "  vertex.label.font = 2,            # Font of node names\n",
    "  vertex.label = V(graphNetwork)$name,      # node names\n",
    "  vertex.label.cex = 1 # font size of node names\n",
    ")"
   ]
  },
  {
   "cell_type": "markdown",
   "id": "6158b3f9",
   "metadata": {},
   "source": [
    "## Sentiment analysis"
   ]
  },
  {
   "cell_type": "code",
   "execution_count": null,
   "id": "bd715158",
   "metadata": {},
   "outputs": [],
   "source": [
    "sentiment_lexicon <- read.table(\"resources/NRC-Emotion-Lexicon-Wordlevel-v0.92.txt\",\n",
    "                                header = FALSE, sep = \"\\t\",\n",
    "                                col.names = c(\"word\", \"sentiment\", \"value\"))\n",
    "sentiment_lexicon_corpus <- sentiment_lexicon %>% filter(word %in% colnames(DTM))\n",
    "positive_terms <- sentiment_lexicon_corpus %>%\n",
    "  filter(sentiment == \"positive\" & value == 1) %>%\n",
    "  select(word) %>% pull()\n",
    "negative_terms <- sentiment_lexicon_corpus %>%\n",
    "  filter(sentiment == \"negative\" & value == 1) %>%\n",
    "  select(word) %>% pull()\n",
    "counts_positive <- rowSums(DTM[, positive_terms])\n",
    "counts_negative <- rowSums(DTM[, negative_terms])\n",
    "counts_all_terms <- rowSums(DTM)\n",
    "relative_sentiment_frequencies <- data.frame(\n",
    "  positive = counts_positive / counts_all_terms,\n",
    "  negative = counts_negative / counts_all_terms\n",
    ")"
   ]
  },
  {
   "cell_type": "code",
   "execution_count": null,
   "id": "c3e239e3",
   "metadata": {},
   "outputs": [],
   "source": [
    "sentiments_by_song <- aggregate(relative_sentiment_frequencies,\n",
    "                                 by = list(song = songs$title), mean)\n",
    "\n",
    "sentiments_by_song %>% head()"
   ]
  },
  {
   "cell_type": "code",
   "execution_count": null,
   "id": "51c6c773",
   "metadata": {},
   "outputs": [],
   "source": [
    "df_sentiment <- melt(sentiments_by_song, id.vars = \"song\")\n",
    "ggplot(data = df_sentiment, aes(x = song, y = value, fill = variable)) + \n",
    "  geom_bar(stat=\"identity\", position=\"stack\") + coord_flip()"
   ]
  },
  {
   "cell_type": "code",
   "execution_count": null,
   "id": "fc3a88c2",
   "metadata": {},
   "outputs": [],
   "source": [
    "positive_songs <- aggregate(\n",
    "  relative_sentiment_frequencies, by = list(song = songs$title),\n",
    "  mean) %>% filter(positive > negative)\n",
    "positive_songs"
   ]
  },
  {
   "cell_type": "code",
   "execution_count": null,
   "id": "3cd56a89",
   "metadata": {},
   "outputs": [],
   "source": [
    "negative_songs <- aggregate(\n",
    "  relative_sentiment_frequencies, by = list(song = songs$title),\n",
    "  mean) %>% filter(negative > positive)\n",
    "negative_songs"
   ]
  },
  {
   "cell_type": "code",
   "execution_count": null,
   "id": "b5306ec5",
   "metadata": {},
   "outputs": [],
   "source": [
    "neutral_songs <- aggregate(\n",
    "  relative_sentiment_frequencies, by = list(song = songs$title),\n",
    "  mean) %>% filter(positive == negative)\n",
    "neutral_songs"
   ]
  },
  {
   "cell_type": "markdown",
   "id": "6abd42ab",
   "metadata": {},
   "source": [
    "## Emotion analysis"
   ]
  },
  {
   "cell_type": "code",
   "execution_count": null,
   "id": "5cd8e947",
   "metadata": {},
   "outputs": [],
   "source": [
    "anger_terms <- sentiment_lexicon_corpus %>%\n",
    "  filter(sentiment == \"anger\" & value == 1) %>%\n",
    "  select(word) %>% pull()\n",
    "fear_terms <- sentiment_lexicon_corpus %>%\n",
    "  filter(sentiment == \"fear\" & value == 1) %>%\n",
    "  select(word) %>% pull()\n",
    "joy_terms <- sentiment_lexicon_corpus %>%\n",
    "  filter(sentiment == \"joy\" & value == 1) %>%\n",
    "  select(word) %>% pull()\n",
    "sadness_terms <- sentiment_lexicon_corpus %>%\n",
    "  filter(sentiment == \"sadness\" & value == 1) %>%\n",
    "  select(word) %>% pull()\n",
    "\n",
    "counts_anger <- rowSums(DTM[, anger_terms])\n",
    "counts_fear <- rowSums(DTM[, fear_terms])\n",
    "counts_joy <- rowSums(DTM[, joy_terms])\n",
    "counts_sadness <- rowSums(DTM[, sadness_terms])\n",
    "\n",
    "relative_emotion_frequencies <- data.frame(\n",
    "  anger = counts_anger / counts_all_terms,\n",
    "  fear = counts_fear / counts_all_terms,\n",
    "  joy = counts_joy / counts_all_terms,\n",
    "  sadness = counts_sadness / counts_all_terms\n",
    ")"
   ]
  },
  {
   "cell_type": "code",
   "execution_count": null,
   "id": "c37ea771",
   "metadata": {},
   "outputs": [],
   "source": [
    "emotions_by_song <- aggregate(relative_emotion_frequencies,\n",
    "                               by = list(song = songs$title), mean)\n",
    "\n",
    "head(emotions_by_song)"
   ]
  },
  {
   "cell_type": "code",
   "execution_count": null,
   "id": "9d36f470",
   "metadata": {
    "lines_to_next_cell": 0
   },
   "outputs": [],
   "source": [
    "df_emotions <- melt(emotions_by_song, id.vars = \"song\")\n",
    "ggplot(data = df_emotions, aes(x = song, y = value, fill = variable)) + \n",
    "  geom_bar(stat=\"identity\", position=\"stack\") + coord_flip()"
   ]
  },
  {
   "cell_type": "markdown",
   "id": "ba258b0a",
   "metadata": {},
   "source": []
  }
 ],
 "metadata": {
  "jupytext": {
   "cell_metadata_filter": "name,tags,-all",
   "main_language": "R",
   "notebook_metadata_filter": "-all"
  }
 },
 "nbformat": 4,
 "nbformat_minor": 5
}
