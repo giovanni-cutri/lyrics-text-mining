{
 "cells": [
  {
   "cell_type": "raw",
   "id": "1095b645",
   "metadata": {},
   "source": [
    "---\n",
    "title: \"Canzone dei Dodici Mesi\"\n",
    "output: html_document\n",
    "---"
   ]
  },
  {
   "cell_type": "code",
   "execution_count": null,
   "id": "6b110208",
   "metadata": {
    "name": "setup",
    "tags": [
     "remove_cell"
    ]
   },
   "outputs": [],
   "source": [
    "knitr::opts_chunk$set(echo = TRUE)"
   ]
  },
  {
   "cell_type": "markdown",
   "id": "e5716fb3",
   "metadata": {},
   "source": [
    "## Canzone dei Dodici Mesi di Guccini\n",
    "\n",
    "As a bonus to the Caparezza's songs analysis, here is an analogue notebook\n",
    "which focuses on the lyrics of \"Canzone dei Dodici Mesi\" by Francesco Guccini."
   ]
  },
  {
   "cell_type": "code",
   "execution_count": null,
   "id": "0915073e",
   "metadata": {},
   "outputs": [],
   "source": [
    "library(geniusr)\n",
    "library(tidyverse)\n",
    "library(tidytext)\n",
    "library(quanteda)\n",
    "library(quanteda.textstats)\n",
    "library(udpipe)\n",
    "library(wordcloud)\n",
    "library(textdata)\n",
    "library(reshape2)\n",
    "library(igraph)"
   ]
  },
  {
   "cell_type": "markdown",
   "id": "76e0486b",
   "metadata": {},
   "source": [
    "## Get lyrics"
   ]
  },
  {
   "cell_type": "code",
   "execution_count": null,
   "id": "5947c503",
   "metadata": {},
   "outputs": [],
   "source": [
    "genius_token()\n",
    "\n",
    "lyrics <- get_lyrics_search(artist_name = \"Francesco Guccini\",\n",
    "                            song_title = \"Canzone dei dodici mesi\")\n",
    "\n",
    "months <- c(\"Gennaio\", \"Febbraio\", \"Marzo\", \"Aprile\", \"Maggio\", \"Giugno\",\n",
    "            \"Luglio\", \"Agosto\", \"Settembre\", \"Ottobre\", \"Novembre\", \"Dicembre\")\n",
    "\n",
    "song_months <- c(\n",
    "  rep(months[1], 4), rep(months[2], 4), rep(months[3], 4), rep(NA, 4),\n",
    "  rep(months[4], 4), rep(months[5], 4), rep(months[6], 4), rep(NA, 4),\n",
    "  rep(months[7], 2), rep(months[8], 2), rep(months[9], 4), rep(months[10], 4),\n",
    "  rep(NA, 4), rep(months[11], 4), rep(months[12], 4), rep(NA, 6)\n",
    ")\n",
    "\n",
    "lyrics$month <- song_months\n",
    "\n",
    "lyrics_by_month <- lyrics %>%\n",
    "  group_by(month) %>%\n",
    "  summarise(month_lyrics = paste(line, collapse = \" \")) %>%\n",
    "  arrange(match(month, months))"
   ]
  },
  {
   "cell_type": "code",
   "execution_count": null,
   "id": "e11668fe",
   "metadata": {},
   "outputs": [],
   "source": [
    "lyrics_by_month %>% head() "
   ]
  },
  {
   "cell_type": "code",
   "execution_count": null,
   "id": "8a3d6210",
   "metadata": {},
   "outputs": [],
   "source": [
    "doc_ids <- vector()\n",
    "for(i in 1:nrow(lyrics_by_month)){\n",
    "  id <- paste(\"doc\", toString(i), sep = \"\")\n",
    "  doc_ids <- doc_ids %>% append(id)\n",
    "}\n",
    "\n",
    "lyrics_by_month <- lyrics_by_month %>% mutate(doc_id = doc_ids, .before = 1)"
   ]
  },
  {
   "cell_type": "markdown",
   "id": "c396772c",
   "metadata": {},
   "source": [
    "## Text pre-processing"
   ]
  },
  {
   "cell_type": "code",
   "execution_count": null,
   "id": "8615877d",
   "metadata": {},
   "outputs": [],
   "source": [
    "corpus <- corpus(lyrics_by_month$month_lyrics, docnames = lyrics_by_month$doc_id)\n",
    "summary(corpus)"
   ]
  },
  {
   "cell_type": "code",
   "execution_count": null,
   "id": "3e99f5f2",
   "metadata": {},
   "outputs": [],
   "source": [
    "cat(as.character(corpus[1]))"
   ]
  },
  {
   "cell_type": "code",
   "execution_count": null,
   "id": "07ca3a82",
   "metadata": {},
   "outputs": [],
   "source": [
    "corpus_tokens <- corpus %>%\n",
    "  quanteda::tokens(remove_punct = TRUE, remove_numbers = TRUE, remove_symbols = TRUE) %>%\n",
    "  tokens_tolower()"
   ]
  },
  {
   "cell_type": "code",
   "execution_count": null,
   "id": "b26ab35e",
   "metadata": {},
   "outputs": [],
   "source": [
    "txt <- sapply(corpus_tokens, FUN=function(x) paste(x, collapse = \"\\n\"))\n",
    "udpipe_download_model(language = \"italian-isdt\", model_dir = \"resources/\")\n",
    "lang_model <- udpipe_load_model(file = \"resources/italian-isdt-ud-2.5-191206.udpipe\")\n",
    "outL <- udpipe_annotate(lang_model, x = txt, tokenizer = \"vertical\", trace = TRUE) %>%\n",
    "  as.data.frame()\n",
    "it_stopwords <- readLines(\"https://raw.githubusercontent.com/stopwords-iso/stopwords-it/master/stopwords-it.txt\")\n",
    "outL <- outL %>% filter(!(token %in% it_stopwords) & !(lemma %in% it_stopwords))"
   ]
  },
  {
   "cell_type": "code",
   "execution_count": null,
   "id": "b6254040",
   "metadata": {},
   "outputs": [],
   "source": [
    "outL %>% select(doc_id, token, lemma, upos) %>% sample_n(5)"
   ]
  },
  {
   "cell_type": "code",
   "execution_count": null,
   "id": "358afbfc",
   "metadata": {},
   "outputs": [],
   "source": [
    "outL_reduced <- outL %>% filter(upos %in% c(\"NOUN\", \"PROPN\", \"ADJ\", \"VERB\"))"
   ]
  },
  {
   "cell_type": "code",
   "execution_count": null,
   "id": "51449b28",
   "metadata": {},
   "outputs": [],
   "source": [
    "lemmatized_lyrics <- outL_reduced %>% group_by(doc_id = fct_inorder(doc_id)) %>%\n",
    "  summarise(lemmatized = paste(lemma, collapse = \" \"))\n",
    "lyrics_by_month <- lyrics_by_month  %>% right_join(lemmatized_lyrics, by = \"doc_id\")\n",
    "\n",
    "corpus <- lyrics_by_month$lemmatized %>% corpus(docnames = lyrics_by_month$doc_id)"
   ]
  },
  {
   "cell_type": "code",
   "execution_count": null,
   "id": "3875f588",
   "metadata": {},
   "outputs": [],
   "source": [
    "DTM <- corpus %>% tokens() %>% dfm()\n",
    "\n",
    "DTM"
   ]
  },
  {
   "cell_type": "markdown",
   "id": "2728f6d9",
   "metadata": {},
   "source": [
    "## Lexical Analysis"
   ]
  },
  {
   "cell_type": "code",
   "execution_count": null,
   "id": "94e79e65",
   "metadata": {},
   "outputs": [],
   "source": [
    "DTM %>% dim()"
   ]
  },
  {
   "cell_type": "code",
   "execution_count": null,
   "id": "8e0c8e1a",
   "metadata": {},
   "outputs": [],
   "source": [
    "words <- colnames(DTM)\n",
    "freqs <- colSums(DTM)\n",
    "wordlist <- data.frame(words, freqs)\n",
    "wordlist %>% arrange(-freqs) %>% head()"
   ]
  },
  {
   "cell_type": "markdown",
   "id": "05283107",
   "metadata": {},
   "source": [
    "## Data visualization"
   ]
  },
  {
   "cell_type": "code",
   "execution_count": null,
   "id": "185c1520",
   "metadata": {},
   "outputs": [],
   "source": [
    "par(mar=c(1,1,0.5,1))\n",
    "wordcloud(words = wordlist$words, freq = wordlist$freqs, scale = c(3.5, 0.35), max.words = 50, random.order = F,\n",
    "          colors = RColorBrewer::brewer.pal(name = \"Dark2\", n = 4))\n",
    "text(0.5, 1, \"wordcloud with TF ponderation\", font = 2)"
   ]
  },
  {
   "cell_type": "markdown",
   "id": "b66c4fd7",
   "metadata": {},
   "source": [
    "## TF-IDF ponderation"
   ]
  },
  {
   "cell_type": "code",
   "execution_count": null,
   "id": "c3d82e33",
   "metadata": {},
   "outputs": [],
   "source": [
    "tf_idf <- dfm_tfidf(DTM)\n",
    "freqs_tf_idf <- colSums(tf_idf)\n",
    "words_tf_idf <- colnames(tf_idf)\n",
    "wordlist_tf_idf <- data.frame(words = words_tf_idf, freqs = freqs_tf_idf)\n",
    "wordlist_tf_idf %>% arrange(-freqs) %>% head(10)"
   ]
  },
  {
   "cell_type": "code",
   "execution_count": null,
   "id": "36c4be89",
   "metadata": {},
   "outputs": [],
   "source": [
    "par(mar=c(1,1,0.2,1))\n",
    "wordcloud(words = wordlist_tf_idf$words, freq = wordlist_tf_idf$freqs,\n",
    "          scale = c(3.5, 0.35), max.words = 50, random.order = F,\n",
    "          colors = RColorBrewer::brewer.pal(name = \"Dark2\", n = 4))\n",
    "text(0.5, 1, \"wordcloud with TF-IDF ponderation\", font = 2)"
   ]
  },
  {
   "cell_type": "markdown",
   "id": "a9edd500",
   "metadata": {},
   "source": [
    "## Co-occurrence analysis"
   ]
  },
  {
   "cell_type": "code",
   "execution_count": null,
   "id": "e94dbcae",
   "metadata": {},
   "outputs": [],
   "source": [
    "binDTM <- DTM %>% dfm_weight(\"boolean\")\n",
    "coocCounts <- t(binDTM) %*% binDTM\n",
    "as.matrix(coocCounts[16:18, 16:18])"
   ]
  },
  {
   "cell_type": "code",
   "execution_count": null,
   "id": "63f559cb",
   "metadata": {},
   "outputs": [],
   "source": [
    "coocTerm <- \"sole\"\n",
    "k <- nrow(binDTM)\n",
    "ki <- sum(binDTM[, coocTerm])\n",
    "kj <- colSums(binDTM)\n",
    "names(kj) <- colnames(binDTM)\n",
    "kij <- coocCounts[coocTerm, ]\n",
    "\n",
    "mutualInformationSig <- log(k * kij / (ki * kj))\n",
    "mutualInformationSig <- mutualInformationSig[order(mutualInformationSig, decreasing = TRUE)]\n",
    "\n",
    "dicesig <- 2 * kij / (ki + kj)\n",
    "dicesig <- dicesig[order(dicesig, decreasing=TRUE)]\n",
    "\n",
    "logsig <- 2 * ((k * log(k)) - (ki * log(ki)) - (kj * log(kj)) + (kij * log(kij)) \n",
    "               + (k - ki - kj + kij) * log(k - ki - kj + kij) \n",
    "               + (ki - kij) * log(ki - kij) + (kj - kij) * log(kj - kij) \n",
    "               - (k - ki) * log(k - ki) - (k - kj) * log(k - kj))\n",
    "logsig <- logsig[order(logsig, decreasing=T)]\n",
    "\n",
    "resultOverView <- data.frame(\n",
    "  names(sort(kij, decreasing=T)[1:10]), sort(kij, decreasing=T)[1:10],\n",
    "  names(mutualInformationSig[1:10]), mutualInformationSig[1:10], \n",
    "  names(dicesig[1:10]), dicesig[1:10], \n",
    "  names(logsig[1:10]), logsig[1:10],\n",
    "  row.names = NULL)\n",
    "colnames(resultOverView) <- c(\"Freq-terms\", \"Freq\", \"MI-terms\", \"MI\", \"Dice-Terms\", \"Dice\", \"LL-Terms\", \"LL\")\n",
    "print(resultOverView)"
   ]
  },
  {
   "cell_type": "markdown",
   "id": "76ef5355",
   "metadata": {},
   "source": [
    "## Co-occurrence visualization"
   ]
  },
  {
   "cell_type": "code",
   "execution_count": null,
   "id": "5f90a28d",
   "metadata": {},
   "outputs": [],
   "source": [
    "source(\"resources/calculateCoocStatistics.R\")\n",
    "numberOfCoocs <- 10\n",
    "coocTerm <- \"sapere\"\n",
    "coocs <- calculateCoocStatistics(coocTerm, binDTM, measure=\"LOGLIK\")\n",
    "print(coocs[1:numberOfCoocs])\n",
    "resultGraph <- data.frame(from = character(), to = character(), sig = numeric(0))\n",
    "tmpGraph <- data.frame(from = character(), to = character(), sig = numeric(0))\n",
    "\n",
    "# Fill the data.frame to produce the correct number of lines\n",
    "tmpGraph[1:numberOfCoocs, 3] <- coocs[1:numberOfCoocs]\n",
    "# Entry of the search word into the first column in all lines\n",
    "tmpGraph[, 1] <- coocTerm\n",
    "# Entry of the co-occurrences into the second column of the respective line\n",
    "tmpGraph[, 2] <- names(coocs)[1:numberOfCoocs]\n",
    "# Set the significances\n",
    "tmpGraph[, 3] <- coocs[1:numberOfCoocs]\n",
    "\n",
    "# Attach the triples to resultGraph\n",
    "resultGraph <- rbind(resultGraph, tmpGraph)\n",
    "\n",
    "# Iteration over the most significant numberOfCoocs co-occurrences of the search term\n",
    "for (i in 1:numberOfCoocs){\n",
    "  \n",
    "  # Calling up the co-occurrence calculation for term i from the search words co-occurrences\n",
    "  newCoocTerm <- names(coocs)[i]\n",
    "  coocs2 <- calculateCoocStatistics(newCoocTerm, binDTM, measure=\"LOGLIK\")\n",
    "  \n",
    "  #print the co-occurrences\n",
    "  coocs2[1:10]\n",
    "  \n",
    "  # Structure of the temporary graph object\n",
    "  tmpGraph <- data.frame(from = character(), to = character(), sig = numeric(0))\n",
    "  tmpGraph[1:numberOfCoocs, 3] <- coocs2[1:numberOfCoocs]\n",
    "  tmpGraph[, 1] <- newCoocTerm\n",
    "  tmpGraph[, 2] <- names(coocs2)[1:numberOfCoocs]\n",
    "  tmpGraph[, 3] <- coocs2[1:numberOfCoocs]\n",
    "  \n",
    "  #Append the result to the result graph\n",
    "  resultGraph <- rbind(resultGraph, tmpGraph[2:length(tmpGraph[, 1]), ])\n",
    "}\n",
    "\n",
    "# Sample of some examples from resultGraph\n",
    "resultGraph[sample(nrow(resultGraph), 6), ]\n",
    "\n",
    "\n",
    "# set seed for graph plot\n",
    "set.seed(1)\n",
    "\n",
    "# Create the graph object as undirected graph\n",
    "graphNetwork <- graph.data.frame(resultGraph, directed = F)\n",
    "\n",
    "# Identification of all nodes with less than 2 edges\n",
    "verticesToRemove <- V(graphNetwork)[degree(graphNetwork) < 2]\n",
    "# These edges are removed from the graph\n",
    "graphNetwork <- delete.vertices(graphNetwork, verticesToRemove) \n",
    "\n",
    "# Assign colors to nodes (search term blue, others orange)\n",
    "V(graphNetwork)$color <- ifelse(V(graphNetwork)$name == coocTerm, 'cornflowerblue', 'orange') \n",
    "\n",
    "# Set edge colors\n",
    "E(graphNetwork)$color <- adjustcolor(\"DarkGray\", alpha.f = .5)\n",
    "# scale significance between 1 and 10 for edge width\n",
    "E(graphNetwork)$width <- scales::rescale(E(graphNetwork)$sig, to = c(1, 10))\n",
    "\n",
    "# Set edges with radius\n",
    "E(graphNetwork)$curved <- 0.15 \n",
    "# Size the nodes by their degree of networking (scaled between 5 and 15)\n",
    "V(graphNetwork)$size <- scales::rescale(log(degree(graphNetwork)), to = c(5, 15))\n",
    "\n",
    "# Define the frame and spacing for the plot\n",
    "par(mai=c(0,0,1,0)) \n",
    "\n",
    "# Final Plot\n",
    "plot(\n",
    "  graphNetwork,             \n",
    "  layout = layout.fruchterman.reingold, # Force Directed Layout \n",
    "  main = paste(coocTerm, ' Graph'),\n",
    "  vertex.label.family = \"sans\",\n",
    "  vertex.label.cex = 0.8,\n",
    "  vertex.shape = \"circle\",\n",
    "  vertex.label.dist = 0.5,          # Labels of the nodes moved slightly\n",
    "  vertex.frame.color = adjustcolor(\"darkgray\", alpha.f = .5),\n",
    "  vertex.label.color = 'black',     # Color of node names\n",
    "  vertex.label.font = 2,            # Font of node names\n",
    "  vertex.label = V(graphNetwork)$name,      # node names\n",
    "  vertex.label.cex = 1 # font size of node names\n",
    ")"
   ]
  },
  {
   "cell_type": "markdown",
   "id": "d99ad225",
   "metadata": {},
   "source": [
    "## Sentiment analysis"
   ]
  },
  {
   "cell_type": "code",
   "execution_count": null,
   "id": "ada5ff90",
   "metadata": {},
   "outputs": [],
   "source": [
    "sentiment_lexicon <- read.table(\"resources/Italian-NRC-EmoLex.txt\",\n",
    "                                header = TRUE, sep = \"\\t\")\n",
    "sentiment_lexicon_corpus <- sentiment_lexicon %>% filter(Italian.Word %in% colnames(DTM))\n",
    "positive_terms <- sentiment_lexicon_corpus %>%\n",
    "  filter(positive == 1) %>%\n",
    "  select(Italian.Word) %>% pull()\n",
    "negative_terms <- sentiment_lexicon_corpus %>%\n",
    "  filter(negative == 1) %>%\n",
    "  select(Italian.Word) %>% pull()\n",
    "counts_positive <- rowSums(DTM[, positive_terms])\n",
    "counts_negative <- rowSums(DTM[, negative_terms])\n",
    "counts_all_terms <- rowSums(DTM)\n",
    "relative_sentiment_frequencies <- data.frame(\n",
    "  positive = counts_positive / counts_all_terms,\n",
    "  negative = counts_negative / counts_all_terms\n",
    ")"
   ]
  },
  {
   "cell_type": "code",
   "execution_count": null,
   "id": "eb352195",
   "metadata": {},
   "outputs": [],
   "source": [
    "sentiments_by_month <- aggregate(relative_sentiment_frequencies,\n",
    "                                by = list(month = lyrics_by_month$month), mean)\n",
    "\n",
    "sentiments_by_month %>% head()"
   ]
  },
  {
   "cell_type": "code",
   "execution_count": null,
   "id": "e296c5a7",
   "metadata": {},
   "outputs": [],
   "source": [
    "df_sentiment <- melt(sentiments_by_month, id.vars = \"month\")\n",
    "ggplot(data = df_sentiment, aes(x = month, y = value, fill = variable)) + \n",
    "  geom_bar(stat=\"identity\", position=\"stack\") + coord_flip()"
   ]
  },
  {
   "cell_type": "code",
   "execution_count": null,
   "id": "b22b9c7f",
   "metadata": {},
   "outputs": [],
   "source": [
    "positive_months <- aggregate(\n",
    "  relative_sentiment_frequencies, by = list(month = lyrics_by_month$month),\n",
    "  mean) %>% filter(positive > negative)\n",
    "positive_months"
   ]
  },
  {
   "cell_type": "code",
   "execution_count": null,
   "id": "0989ed36",
   "metadata": {},
   "outputs": [],
   "source": [
    "negative_months <- aggregate(\n",
    "  relative_sentiment_frequencies, by = list(month = lyrics_by_month$month),\n",
    "  mean) %>% filter(negative > positive)\n",
    "negative_months"
   ]
  },
  {
   "cell_type": "code",
   "execution_count": null,
   "id": "4a29bc00",
   "metadata": {},
   "outputs": [],
   "source": [
    "neutral_months <- aggregate(\n",
    "  relative_sentiment_frequencies, by = list(month = lyrics_by_month$month),\n",
    "  mean) %>% filter(positive == negative)\n",
    "neutral_months"
   ]
  },
  {
   "cell_type": "markdown",
   "id": "ebc25ccb",
   "metadata": {},
   "source": [
    "## Emotion analysis"
   ]
  },
  {
   "cell_type": "code",
   "execution_count": null,
   "id": "1817e14f",
   "metadata": {},
   "outputs": [],
   "source": [
    "anger_terms <- sentiment_lexicon_corpus %>%\n",
    "  filter(anger == 1) %>%\n",
    "  select(Italian.Word) %>% pull()\n",
    "fear_terms <- sentiment_lexicon_corpus %>%\n",
    "  filter(fear == 1) %>%\n",
    "  select(Italian.Word) %>% pull()\n",
    "joy_terms <- sentiment_lexicon_corpus %>%\n",
    "  filter(joy == 1) %>%\n",
    "  select(Italian.Word) %>% pull()\n",
    "sadness_terms <- sentiment_lexicon_corpus %>%\n",
    "  filter(sadness == 1) %>%\n",
    "  select(Italian.Word) %>% pull()\n",
    "\n",
    "counts_anger <- rowSums(DTM[, anger_terms])\n",
    "counts_fear <- rowSums(DTM[, fear_terms])\n",
    "counts_joy <- rowSums(DTM[, joy_terms])\n",
    "counts_sadness <- rowSums(DTM[, sadness_terms])\n",
    "\n",
    "relative_emotion_frequencies <- data.frame(\n",
    "  anger = counts_anger / counts_all_terms,\n",
    "  fear = counts_fear / counts_all_terms,\n",
    "  joy = counts_joy / counts_all_terms,\n",
    "  sadness = counts_sadness / counts_all_terms\n",
    ")"
   ]
  },
  {
   "cell_type": "code",
   "execution_count": null,
   "id": "9c1700a6",
   "metadata": {},
   "outputs": [],
   "source": [
    "emotions_by_month <- aggregate(relative_emotion_frequencies,\n",
    "                              by = list(month = lyrics_by_month$month), mean)\n",
    "\n",
    "head(emotions_by_month)"
   ]
  },
  {
   "cell_type": "code",
   "execution_count": null,
   "id": "d10ba0f2",
   "metadata": {},
   "outputs": [],
   "source": [
    "df_emotions <- melt(emotions_by_month, id.vars = \"month\")\n",
    "ggplot(data = df_emotions, aes(x = month, y = value, fill = variable)) + \n",
    "  geom_bar(stat=\"identity\", position=\"stack\") + coord_flip()\n"
   ]
  }
 ],
 "metadata": {
  "jupytext": {
   "cell_metadata_filter": "name,tags,-all",
   "main_language": "R",
   "notebook_metadata_filter": "-all"
  }
 },
 "nbformat": 4,
 "nbformat_minor": 5
}
